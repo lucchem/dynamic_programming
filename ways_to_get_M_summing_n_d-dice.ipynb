{
 "cells": [
  {
   "cell_type": "markdown",
   "metadata": {},
   "source": [
    "# Ways to get $M$ summing $n$ $d$-dice\n",
    "\n",
    "Q: _you have $n$ $d$-dice, throw them; in how many ways you can obtain $M$ as the sum of the faces?_\n",
    "\n",
    "Dynamic programming way: divide the problem in smaller problems.\n",
    "\n",
    "To obtain $k$ from $j$ dice, you can add 1 to $k-1$ from $j-1$ dice, or 2 from $k-2$, and so on.\n",
    "Call $w_{j,k}$ the number of ways to obtain $k$ from $j$ dice. The recursion starts with $w_{0,0}=1$. \n",
    "\n",
    "### First solution: use a table"
   ]
  },
  {
   "cell_type": "code",
   "execution_count": 1,
   "metadata": {},
   "outputs": [],
   "source": [
    "def find_ways_memory(d,n,M):\n",
    "    seen = []\n",
    "    for j in range(n+1):\n",
    "        seen.append([ 0 for k in range(j*d+1) ])\n",
    "\n",
    "    seen[0][0] = 1\n",
    "    for j in range(1,n+1):\n",
    "        for draw in range(1,d+1):\n",
    "            for k in range((j-1)+draw,(j-1)*d+draw+1):\n",
    "                seen[j][k] += seen[j-1][k-draw]\n",
    "\n",
    "    return seen[n][M]"
   ]
  },
  {
   "cell_type": "markdown",
   "metadata": {},
   "source": [
    "### Second solution: use recursion\n",
    "\n",
    "keep in mind: Python has a limit over recursions"
   ]
  },
  {
   "cell_type": "code",
   "execution_count": 2,
   "metadata": {},
   "outputs": [],
   "source": [
    "def find_ways_recursive(d,n,M):\n",
    "    if n == 0:\n",
    "        if M == 0:\n",
    "            return 1\n",
    "        else:\n",
    "            return 0\n",
    "    else:\n",
    "        tot = 0\n",
    "        for draw in range(1,d+1):\n",
    "            tot += find_ways_recursive(d,n-1,M-draw)\n",
    "        return tot"
   ]
  },
  {
   "cell_type": "code",
   "execution_count": 3,
   "metadata": {},
   "outputs": [
    {
     "name": "stdout",
     "output_type": "stream",
     "text": [
      "98813 98813\n"
     ]
    }
   ],
   "source": [
    "d = 6\n",
    "n = 8\n",
    "M = 24\n",
    "print(find_ways_memory(d,n,M),find_ways_recursive(d,n,M))"
   ]
  }
 ],
 "metadata": {
  "kernelspec": {
   "display_name": "Python 3",
   "language": "python",
   "name": "python3"
  },
  "language_info": {
   "codemirror_mode": {
    "name": "ipython",
    "version": 3
   },
   "file_extension": ".py",
   "mimetype": "text/x-python",
   "name": "python",
   "nbconvert_exporter": "python",
   "pygments_lexer": "ipython3",
   "version": "3.7.4"
  }
 },
 "nbformat": 4,
 "nbformat_minor": 4
}

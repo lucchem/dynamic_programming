{
 "cells": [
  {
   "cell_type": "code",
   "execution_count": 1,
   "metadata": {},
   "outputs": [],
   "source": [
    "import numpy as np"
   ]
  },
  {
   "cell_type": "markdown",
   "metadata": {},
   "source": [
    "# Maximum sum in triangle path\n",
    "\n",
    "Interview question.\n",
    "\n",
    "Q: _You are given a triangle of numbers, say a Tartaglia triangle made of random integers, arranged as a tree.\n",
    "Walk from top to bottom along connected nodes (never sideways), and sum the elements over single paths. Find the maximum sum._\n",
    "\n",
    "Es.\n",
    "\\begin{equation*}\n",
    "\\begin{matrix}\n",
    "   &   &   & 1 &   &       \\\\\n",
    "   &   & 3 &   & 2 &       \\\\\n",
    "   & 4 &   & 5 &   & 6     \\\\\n",
    "10 &   & 9 &   & 8 &   & 7\n",
    "\\end{matrix}\n",
    "\\end{equation*}\n",
    "\n",
    "the maximum sum is 18, as 10+4+3+1.\n",
    "\n",
    "First, set the number of rows and generate the triangle randomly:"
   ]
  },
  {
   "cell_type": "code",
   "execution_count": 2,
   "metadata": {},
   "outputs": [
    {
     "name": "stdout",
     "output_type": "stream",
     "text": [
      "  2  \n",
      "  2   13  \n",
      " 33   36   47  \n",
      " 69   47   24   15  \n",
      "111   40   97   63   41  \n",
      "119   34   19   10   92   29  \n",
      " 55   72   92   51   23    2  134  \n",
      " 43   41  177  197  120  198   61   39  \n",
      " 31  106  155  124  223   25  117  128  119  \n",
      " 88   47  230    5  130   16  239  157  151  116  \n",
      " 20   45  127   50  211  140   35   60  127  267   94  \n",
      " 10  245  158  245  194  245  150  207  234   90   36  204  \n",
      "213  321  318  120   77  314    7   49   90   72  215  228  250  \n",
      "158  140  308  129    6  289  127  298   63  147    4   74  223  329  \n",
      "194   21  154   90  261  155  310  267  357  134   95   89  301  176  140  \n",
      "212  271   36   69  385   75  392  308  203  387  120   33  344  245  340   62  \n",
      "210   90  270  108   43  114   10  256  385  149  283  112  384  266  298  319  265  \n",
      "100  129  386  276  194   62    5  384   84   13  316  328  330  422   63  128  371  291  \n",
      "290  467  177  127  439   48   18  209  438  155   27  112  121  156  349  420  330   41  334  \n",
      " 79  361  148  395   95  121  354  330  334   63  124  437  244  471   15  172  466  299   50  300  \n",
      " 92   57  146   74   70  367  121  424  181  297  519  343  413  440  361  522  390  514  349  361   84  \n",
      " 69  352   92  118  491  505  264  533  105  398  280  150  444  234   50  217  205  314  467  441  234   83  \n",
      "532   45  442  141  173  202  181   89   97   34  420   22   55  235  143  244  526  315  545  558   53   83  174  \n",
      "206  348   87  172  226  110  124   46  541  318  534  189  272  431  538  555  236  515  419  304  457  262  437  451  \n",
      "134   66  623  267  283  479   79   21  339  533  343  201  331  358  221  245  344  547  557  508  376  361  116  602   18  \n"
     ]
    }
   ],
   "source": [
    "N = 25\n",
    "\n",
    "lines = []\n",
    "for i in range(1,N+1):\n",
    "    lines.append(list(np.random.random_integers(0,N*i,i)))\n",
    "work = [ [ i for i in row ] for row in lines]\n",
    "    \n",
    "for row in work:\n",
    "    for num in row:\n",
    "        print(\"{:3d}  \".format(num),end='')\n",
    "    print()"
   ]
  },
  {
   "cell_type": "markdown",
   "metadata": {},
   "source": [
    "Then, dynamic programming approach: divide a triangle in two smaller triangles. Thinking that the top edge gets summed with the subtriangle with highest maximum sum, in order to achieve the maximum sum of the triangle itself, find the maximum sum of every subtriangle. Repeat iteratively, and realise that you start from the 3-number triangles at last and before the last rows. Sum their elements, keep the sum, and reduce the triangle basically throwing away the last row and substituting the now last row with the vector of maximum sums."
   ]
  },
  {
   "cell_type": "code",
   "execution_count": 3,
   "metadata": {},
   "outputs": [
    {
     "name": "stdout",
     "output_type": "stream",
     "text": [
      "6058\n"
     ]
    }
   ],
   "source": [
    "for j in range(2,N+1):\n",
    "    work[-j] = [ work[-j][i] + max(work[-j+1][i],work[-j+1][i+1]) for i in range(len(work[-j])) ]\n",
    "        \n",
    "print(work[0][0])"
   ]
  }
 ],
 "metadata": {
  "kernelspec": {
   "display_name": "Python 3",
   "language": "python",
   "name": "python3"
  },
  "language_info": {
   "codemirror_mode": {
    "name": "ipython",
    "version": 3
   },
   "file_extension": ".py",
   "mimetype": "text/x-python",
   "name": "python",
   "nbconvert_exporter": "python",
   "pygments_lexer": "ipython3",
   "version": "3.7.4"
  }
 },
 "nbformat": 4,
 "nbformat_minor": 4
}

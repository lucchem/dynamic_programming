{
 "cells": [
  {
   "cell_type": "code",
   "execution_count": 1,
   "metadata": {},
   "outputs": [],
   "source": [
    "import numpy as np"
   ]
  },
  {
   "cell_type": "markdown",
   "metadata": {},
   "source": [
    "# Fuzzy string matching\n",
    "\n",
    "Interview question.\n",
    "\n",
    "Taken from https://www.datacamp.com/community/tutorials/fuzzy-string-python, few things removed, computes Levenshtein distance between two strings."
   ]
  },
  {
   "cell_type": "code",
   "execution_count": 28,
   "metadata": {},
   "outputs": [],
   "source": [
    "def levenshtein_distance(s, t):\n",
    "    \"\"\" levenshtein_distance:\n",
    "        Calculates levenshtein distance between two strings.\n",
    "        For all i and j, distance[i,j] will contain the Levenshtein\n",
    "        distance between the first i characters of s and the\n",
    "        first j characters of t\n",
    "    \"\"\"\n",
    "    rows = len(s)+1\n",
    "    cols = len(t)+1\n",
    "    distance = np.zeros((rows,cols),dtype = int)\n",
    "\n",
    "    # if one string is zero length, then the distance from the other string is equal to the length of the other string (true for every substring)\n",
    "    # indeed if both are zero length, the distance is zero.\n",
    "    for row in range(rows):\n",
    "        distance[row][0] = row\n",
    "        for col in range(1,cols):\n",
    "            if row == 0:\n",
    "                distance[row][col] = col\n",
    "            else:\n",
    "                cost = 0 if s[row-1] == t[col-1] else 1\n",
    "                distance[row][col] = min(distance[row-1][col] + 1,      # Cost of deletions\n",
    "                                     distance[row][col-1] + 1,          # Cost of insertions\n",
    "                                     distance[row-1][col-1] + cost)\n",
    "\n",
    "    print(distance)\n",
    "    return distance[len(s)][len(t)]"
   ]
  },
  {
   "cell_type": "code",
   "execution_count": 29,
   "metadata": {},
   "outputs": [
    {
     "name": "stdout",
     "output_type": "stream",
     "text": [
      "[[0 1 2 3 4]\n",
      " [1 1 2 2 3]\n",
      " [2 2 2 3 3]]\n"
     ]
    },
    {
     "data": {
      "text/plain": [
       "3"
      ]
     },
     "execution_count": 29,
     "metadata": {},
     "output_type": "execute_result"
    }
   ],
   "source": [
    "levenshtein_distance(\"ad\",\"trac\")"
   ]
  }
 ],
 "metadata": {
  "kernelspec": {
   "display_name": "Python 3",
   "language": "python",
   "name": "python3"
  },
  "language_info": {
   "codemirror_mode": {
    "name": "ipython",
    "version": 3
   },
   "file_extension": ".py",
   "mimetype": "text/x-python",
   "name": "python",
   "nbconvert_exporter": "python",
   "pygments_lexer": "ipython3",
   "version": "3.7.4"
  }
 },
 "nbformat": 4,
 "nbformat_minor": 4
}

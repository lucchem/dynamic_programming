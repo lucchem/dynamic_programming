{
 "cells": [
  {
   "cell_type": "code",
   "execution_count": 4,
   "metadata": {
    "scrolled": true
   },
   "outputs": [],
   "source": [
    "import numpy as np\n",
    "import random as rn"
   ]
  },
  {
   "cell_type": "markdown",
   "metadata": {},
   "source": [
    "# Optimal stopping of a 100-die\n",
    "\n",
    "Roll a 100-die, paying 1 for rolling, and win what is on the face or roll again. What is the optimal strategy?\n",
    "\n",
    "Start saying that after 100 rolls one stops for sure, because there is no way to generate a positive return anymore.\n",
    "\n",
    "One can think to stop at either a fixed number $r$ of rolls, pinning at $n$ the cost and the expected win at $50.5-r$, or fix a face value $n$ and accept only above it, regardless than the number of rolls. Therefore, the expected win $w_n$ is equal to:\n",
    "\n",
    "$$w_n = \\mathbb E[X_{i}-i|X_{i}\\ge n]=\\mathbb E[X_{i}|X_{i}\\ge n]-\\mathbb E[i|X_{i}\\ge n]=\\frac 1{100-(n-1)}\\sum_{i=n}^{100} X_i-\\frac {100}{100-(n-1)}.$$\n",
    "One can brute-force compute the maximum expected win, and the corresponding strategy."
   ]
  },
  {
   "cell_type": "code",
   "execution_count": 2,
   "metadata": {},
   "outputs": [
    {
     "name": "stdout",
     "output_type": "stream",
     "text": [
      "80 85.23809523809524\n",
      "81 85.5\n",
      "82 85.73684210526315\n",
      "83 85.94444444444444\n",
      "84 86.11764705882354\n",
      "85 86.25\n",
      "86 86.33333333333333\n",
      "87 86.35714285714286\n",
      "88 86.3076923076923\n",
      "89 86.16666666666667\n"
     ]
    }
   ],
   "source": [
    "dim = 100\n",
    "\n",
    "w=[]\n",
    "for n in range(dim-20,dim-10):\n",
    "    w.append(sum([i for i in range(n,dim+1)])/(dim-n+1)-dim/(dim-n+1))\n",
    "    print(n,w[-1])"
   ]
  },
  {
   "cell_type": "markdown",
   "metadata": {},
   "source": [
    "It is predicted to be for 87.\n",
    "\n",
    "On _Introduction to stochastic processes_ (Lawler), optimal stopping problems are described in a very general framework. Each roll has a payoff equal to $f(k)$, where $k$ is the roll, and $f$ a generic payoff function. At the same time, the player has a value function that associates to each roll $k$ a value given by following the optimal strategy, $v(k)$. There exists also an expected value $u(k)$ that is the expected value of $v$ at the next roll, so that $u(k)=\\sum_k \\mathbb E[v(k)|k]\\mathbb P(k)$.\n",
    "\n",
    "The strategy reads in the following way: if $f(k)$ is larger than $u(k)$, the player should stop rolling, because the immediate gain is larger than the expected value under optimal conditions. Clearly, $v(k)=\\max[f(k), u(k)]$.\n",
    "\n",
    "Think that the system is a Markov chain, then there exists a transition matrix $P=\\{P_{ij}=\\mathbb P(X_{n+1}=j|X_n=i)\\}$, and $u(k)=P v(k)=\\sum_{j=1}^n P_{kj}v(j)$. So $v(k)=\\max[f(k), Pv(k)]$.\n",
    "\n",
    "If a cost $g(k)$ is included, one gets $v(k)=\\max[f(k), Pv(k) - g(k)]$.\n",
    "\n",
    "In the mentioned book the author characterises $v(k)$ and establishes that the following iterative method converges to the real value function:\n",
    "$$ v_{n+1}(k) = \\max[f(k), Pv_n(k) - g(k)].$$\n",
    "Implementation:\n",
    "1. $P$ is going to be a full matrix, with every element equal to $1/d$, where $d$ is the dimension of the dice, because it is the transition matrix of a Markov chain that can reach any state from any state with the same probability\n",
    "2. $f(k)=k$\n",
    "3. $g(k)=1$, because rolling always costs 1\n",
    "4. start from $v(k)=\\max f(k)$ for every $k$ being a non-absorbing state, otherwise $v(k)=f(k)$, that is a natural choice\n",
    "\n",
    "The method confirms previous results."
   ]
  },
  {
   "cell_type": "code",
   "execution_count": 6,
   "metadata": {},
   "outputs": [
    {
     "name": "stdout",
     "output_type": "stream",
     "text": [
      "Strategy: exit if roll >= 87\n",
      "Expected win: 87.36\n",
      "Expected number of rolls (geometrical distribution):  7.142857142857143\n"
     ]
    }
   ],
   "source": [
    "f = np.linspace(1,dim,dim)\n",
    "v = np.full(dim,max(f))\n",
    "g = np.full(dim,1)\n",
    "P = np.full((dim,dim),1/dim)\n",
    "\n",
    "for i in range(1,200):\n",
    "    v = np.maximum(f,P.dot(v)-g)\n",
    "\n",
    "print('Strategy: exit if roll >=',np.argmax(f >= v)+1)\n",
    "print('Expected win: %.2f' % P[1].dot(v))\n",
    "print('Expected number of rolls (geometrical distribution): ',dim/sum(f >= v))"
   ]
  },
  {
   "cell_type": "markdown",
   "metadata": {},
   "source": [
    "One can just set up a Monte Carlo simulation. Play many games with different strategies, and record the results."
   ]
  },
  {
   "cell_type": "code",
   "execution_count": 17,
   "metadata": {},
   "outputs": [
    {
     "name": "stdout",
     "output_type": "stream",
     "text": [
      "Strategy: exit when rolled  85  - average win:  87.18416  in  6.3165025  rolls\n",
      "Strategy: exit when rolled  86  - average win:  87.252165  in  6.74376875  rolls\n",
      "Strategy: exit when rolled  87  - average win:  87.2799375  in  7.21187625  rolls\n",
      "Strategy: exit when rolled  88  - average win:  87.2288825  in  7.7748475  rolls\n",
      "Strategy: exit when rolled  89  - average win:  87.09873625  in  8.40769  rolls\n"
     ]
    }
   ],
   "source": [
    "partite = 800000\n",
    "\n",
    "tiri =  np.random.randint(100+1,size = partite*100)\n",
    "\n",
    "i = 0\n",
    "for Nmin in range(85,90):\n",
    "    vittoria = 0\n",
    "    costo = 0\n",
    "    for k in range(0,partite):\n",
    "        g = 0\n",
    "        while True:\n",
    "            tiro = tiri[i]\n",
    "            i += 1\n",
    "            g += 1\n",
    "            if tiro >= Nmin:\n",
    "                vittoria += tiro-(g-1)\n",
    "                costo += g\n",
    "                break\n",
    "    costo /= partite\n",
    "    vittoria /= partite\n",
    "    print('Strategy: exit when rolled ',Nmin,' - average win: ',vittoria,' in ',costo,' rolls')"
   ]
  }
 ],
 "metadata": {
  "kernelspec": {
   "display_name": "Python 3 (ipykernel)",
   "language": "python",
   "name": "python3"
  },
  "language_info": {
   "codemirror_mode": {
    "name": "ipython",
    "version": 3
   },
   "file_extension": ".py",
   "mimetype": "text/x-python",
   "name": "python",
   "nbconvert_exporter": "python",
   "pygments_lexer": "ipython3",
   "version": "3.9.7"
  },
  "toc": {
   "base_numbering": 1,
   "nav_menu": {},
   "number_sections": true,
   "sideBar": true,
   "skip_h1_title": false,
   "title_cell": "Table of Contents",
   "title_sidebar": "Contents",
   "toc_cell": false,
   "toc_position": {},
   "toc_section_display": true,
   "toc_window_display": false
  }
 },
 "nbformat": 4,
 "nbformat_minor": 2
}

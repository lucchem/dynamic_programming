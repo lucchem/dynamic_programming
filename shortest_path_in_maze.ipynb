{
 "cells": [
  {
   "cell_type": "markdown",
   "metadata": {},
   "source": [
    "# Shortest path in a maze\n",
    "\n",
    "This was asked during a Hackerrank.\n",
    "\n",
    "You are given a maze, with walls, free tiles, a beginning and an end. Find the shortest path."
   ]
  },
  {
   "cell_type": "code",
   "execution_count": 1,
   "metadata": {},
   "outputs": [],
   "source": [
    "def print_mappa(mappa):\n",
    "    print('#'+''.join(['####' for i in range(len(mappa[0]))])+'#')\n",
    "    for row in mappa:\n",
    "        print('#',end='')\n",
    "        for cell in row:\n",
    "            if cell == 'f' or cell == ' ' or cell == '.':\n",
    "                print('   |',end='')\n",
    "            elif cell == 't' or cell == '#':\n",
    "                print(' # |',end='')\n",
    "            elif cell == 'S':\n",
    "                print(' S |',end='')\n",
    "            elif cell == 'E':\n",
    "                print(' E |',end='')\n",
    "            elif cell == '*':\n",
    "                print(' * |',end='')\n",
    "            else:\n",
    "                print(\"{:3d}|\".format(cell),end='')\n",
    "        print('#')\n",
    "    print('#'+''.join(['####' for i in range(len(mappa[0]))])+'#')\n",
    "    print()"
   ]
  },
  {
   "cell_type": "markdown",
   "metadata": {},
   "source": [
    "After building a cosmetics function, give the data. The map is given as a list, to be easily modifiable. Then it is turned into a string, just to adhere to the original statement from the interview."
   ]
  },
  {
   "cell_type": "code",
   "execution_count": 2,
   "metadata": {},
   "outputs": [
    {
     "name": "stdout",
     "output_type": "stream",
     "text": [
      "######################################\n",
      "#   | S |   |   |   |   |   |   |   |#\n",
      "#   |   |   |   |   |   | # | # |   |#\n",
      "# # | # | # | # | # |   | # | # |   |#\n",
      "# # | # | # | # | # |   | # | # | # |#\n",
      "#   |   |   |   |   |   | # | # | E |#\n",
      "#   | # | # | # | # | # | # | # |   |#\n",
      "#   | # | # | # | # | # | # | # |   |#\n",
      "#   |   |   |   |   |   |   |   |   |#\n",
      "######################################\n",
      "\n"
     ]
    }
   ],
   "source": [
    "mappa = [ [0, 0, 0, 0, 0, 0, 0, 0, 0],\n",
    "          [0, 0, 0, 0, 0, 0, 1, 1, 0],\n",
    "          [1, 1, 1, 1, 1, 0, 1, 1, 0],\n",
    "          [1, 1, 1, 1, 1, 0, 1, 1, 1],\n",
    "          [0, 0, 0, 0, 0, 0, 1, 1, 0],\n",
    "          [0, 1, 1, 1, 1, 1, 1, 1, 0],\n",
    "          [0, 1, 1, 1, 1, 1, 1, 1, 0],\n",
    "          [0, 0, 0, 0, 0, 0, 0, 0, 0] ]\n",
    "\n",
    "wall = '#'\n",
    "space = '.'\n",
    "\n",
    "for i in range(len(mappa)):\n",
    "    for j in range(len(mappa[0])):\n",
    "        if mappa[i][j] == 1:\n",
    "            mappa[i][j] = wall\n",
    "        else:\n",
    "            mappa[i][j] = space\n",
    "\n",
    "            \n",
    "x_n = 0\n",
    "y_n = 1\n",
    "x_e = 4\n",
    "y_e = 8\n",
    "\n",
    "mappa[x_e][y_e] = 'E'\n",
    "mappa[x_n][y_n] = 'S'\n",
    "\n",
    "print_mappa(mappa)"
   ]
  },
  {
   "cell_type": "code",
   "execution_count": 3,
   "metadata": {},
   "outputs": [
    {
     "data": {
      "text/plain": [
       "[['.', 'S', '.', '.', '.', '.', '.', '.', '.'],\n",
       " ['.', '.', '.', '.', '.', '.', '#', '#', '.'],\n",
       " ['#', '#', '#', '#', '#', '.', '#', '#', '.'],\n",
       " ['#', '#', '#', '#', '#', '.', '#', '#', '#'],\n",
       " ['.', '.', '.', '.', '.', '.', '#', '#', 'E'],\n",
       " ['.', '#', '#', '#', '#', '#', '#', '#', '.'],\n",
       " ['.', '#', '#', '#', '#', '#', '#', '#', '.'],\n",
       " ['.', '.', '.', '.', '.', '.', '.', '.', '.']]"
      ]
     },
     "execution_count": 3,
     "metadata": {},
     "output_type": "execute_result"
    }
   ],
   "source": [
    "mappa"
   ]
  },
  {
   "cell_type": "markdown",
   "metadata": {},
   "source": [
    "In the following it will be so useful if a frame of walls is added around the map, helping sweeping through indices without thinking too much."
   ]
  },
  {
   "cell_type": "code",
   "execution_count": 4,
   "metadata": {},
   "outputs": [],
   "source": [
    "framed_map = []\n",
    "framed_map.append([wall]+[wall for i in range(len(mappa[0]))]+[wall])\n",
    "for row in mappa:\n",
    "    framed_map.append([wall]+row+[wall])\n",
    "framed_map.append([wall]+[wall for i in range(len(mappa[0]))]+[wall])\n",
    "\n",
    "mappa = framed_map.copy()\n",
    "\n",
    "rows = len(mappa)\n",
    "cols = len(mappa[0])\n",
    "\n",
    "for i in range(rows):\n",
    "    for j in range(cols):\n",
    "        if mappa[i][j] == 'S':\n",
    "            x_n=i\n",
    "            y_n=j\n",
    "        if mappa[i][j] == 'E':\n",
    "            x_e=i\n",
    "            y_e=j"
   ]
  },
  {
   "cell_type": "markdown",
   "metadata": {},
   "source": [
    "The idea is inspired by Dynamic Programming principles: assign a value to the end state, that is the finish tile, and based over this value, sweep backward the states assigning them a value depending on future states. In this case the finish tile has value 0, as the number of moves necessary to reach the end from it. The neighbouring tiles have the same value plus one, as if to say that it takes one move to reach the end tile. The neighbouring cells of the finish tile neighbours have value 2, then, and so on."
   ]
  },
  {
   "cell_type": "code",
   "execution_count": 5,
   "metadata": {},
   "outputs": [],
   "source": [
    "turno = 0\n",
    "old_level = [ (x_e,y_e) ]\n",
    "\n",
    "finito = False\n",
    "while not finito:\n",
    "    turno += 1\n",
    "    new_level = []\n",
    "    for cella in old_level:\n",
    "        for (a,b) in [ (cella[0]+1,cella[1]), (cella[0]-1,cella[1]), (cella[0],cella[1]+1), (cella[0],cella[1]-1)]:\n",
    "            if mappa[a][b] == space:\n",
    "                mappa[a][b] = turno\n",
    "                new_level.append((a,b))\n",
    "            if mappa[a][b] == 'S':\n",
    "                finito = True\n",
    "    if len(new_level) == 0:\n",
    "        raise Exception('stuck?')\n",
    "    old_level = new_level"
   ]
  },
  {
   "cell_type": "markdown",
   "metadata": {},
   "source": [
    "As soon as the first tile received a value, one just sweeps forward, always jumping in the tile with the lowest value. This first sweep is already the shortest path."
   ]
  },
  {
   "cell_type": "code",
   "execution_count": 6,
   "metadata": {},
   "outputs": [],
   "source": [
    "minimo = turno+1\n",
    "cella = [x_n,y_n]    \n",
    "\n",
    "finito = False\n",
    "while not finito:\n",
    "    for (a,b) in [ (cella[0]+1,cella[1]), (cella[0]-1,cella[1]), (cella[0],cella[1]+1), (cella[0],cella[1]-1)]:\n",
    "        if type(mappa[a][b]) == int and mappa[a][b] < minimo:\n",
    "            minimo = mappa[a][b]\n",
    "            idx = [a,b]\n",
    "        if mappa[a][b] == 'E':\n",
    "            finito = True\n",
    "    cella = idx\n",
    "    mappa[cella[0]][cella[1]] = '*'"
   ]
  },
  {
   "cell_type": "markdown",
   "metadata": {},
   "source": [
    "More cosmetics and print"
   ]
  },
  {
   "cell_type": "code",
   "execution_count": 7,
   "metadata": {},
   "outputs": [
    {
     "name": "stdout",
     "output_type": "stream",
     "text": [
      ".S.......\n",
      ".*****##.\n",
      "#####*##.\n",
      "#####*###\n",
      "******##E\n",
      "*#######*\n",
      "*#######*\n",
      "*********\n",
      "######################################\n",
      "#   | S |   |   |   |   |   |   |   |#\n",
      "#   | * | * | * | * | * | # | # |   |#\n",
      "# # | # | # | # | # | * | # | # |   |#\n",
      "# # | # | # | # | # | * | # | # | # |#\n",
      "# * | * | * | * | * | * | # | # | E |#\n",
      "# * | # | # | # | # | # | # | # | * |#\n",
      "# * | # | # | # | # | # | # | # | * |#\n",
      "# * | * | * | * | * | * | * | * | * |#\n",
      "######################################\n",
      "\n"
     ]
    }
   ],
   "source": [
    "mappa = mappa[1:-1]\n",
    "for i in range(len(mappa)):\n",
    "    mappa[i] = mappa[i][1:-1]\n",
    "\n",
    "for i in range(len(mappa)):\n",
    "    for j in range(len(mappa[i])):\n",
    "        if mappa[i][j] not in [wall,'S','E','*']:\n",
    "            mappa[i][j]='.'\n",
    "        if mappa[i][j] == wall:\n",
    "            mappa[i][j]='#'\n",
    "\n",
    "for row in mappa:\n",
    "    print(''.join(row))\n",
    "    \n",
    "print_mappa(mappa)"
   ]
  }
 ],
 "metadata": {
  "kernelspec": {
   "display_name": "Python 3",
   "language": "python",
   "name": "python3"
  },
  "language_info": {
   "codemirror_mode": {
    "name": "ipython",
    "version": 3
   },
   "file_extension": ".py",
   "mimetype": "text/x-python",
   "name": "python",
   "nbconvert_exporter": "python",
   "pygments_lexer": "ipython3",
   "version": "3.7.4"
  }
 },
 "nbformat": 4,
 "nbformat_minor": 2
}

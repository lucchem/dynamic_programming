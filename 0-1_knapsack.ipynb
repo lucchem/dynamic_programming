{
 "cells": [
  {
   "cell_type": "code",
   "execution_count": 1,
   "metadata": {},
   "outputs": [],
   "source": [
    "import numpy as np\n",
    "np.random.seed(10101)"
   ]
  },
  {
   "cell_type": "markdown",
   "metadata": {},
   "source": [
    "## Problem statement\n",
    "I have a knapsack that can bring $W$ kg, and I have $N$ items. The $i$-th item weights $w_i$ and has value $v_i$.\n",
    "\n",
    "I can form the vectors $\\mathbf v:=(v_i)_{i=1}^N$ and $\\mathbf w:=(w_i)_{i=1}^N$.\n",
    "\n",
    "How to select the _best_ $J$ items, i.e. the combination of items that respects the knapsack's weight tolerance but maximises the stored value? Or, in maths, $\\mathbf J:=\\{i_1,..,i_J|J\\in \\mathbb N, J\\leq N\\}$ such that $\\tilde W:=\\sum_{j\\in J}w_j\\leq W$ and $\\mathbf J=\\arg\\max{\\sum_{j\\in J} v_j}$."
   ]
  },
  {
   "cell_type": "code",
   "execution_count": 2,
   "metadata": {},
   "outputs": [
    {
     "name": "stdout",
     "output_type": "stream",
     "text": [
      "weight  [1 6 3 2 3 4 3 7 4 3 7 6 8 7 1 1 3 4 2 8]\n",
      "value  [22 34 47 41 28 23 12 48 20 10 44 37 50 12 23 46 46 28 37 29]\n"
     ]
    }
   ],
   "source": [
    "N = 3\n",
    "W = 50\n",
    "v = [60, 100, 120] \n",
    "w = [10, 20, 30]\n",
    "N = 20\n",
    "W = 8\n",
    "w = np.random.random_integers(1,W,N)\n",
    "v = np.random.random_integers(10,50,N)\n",
    "print('weight ',w)\n",
    "print('value ',v)"
   ]
  },
  {
   "cell_type": "markdown",
   "metadata": {},
   "source": [
    "## Solution by Dynamic Programming\n",
    "\n",
    "Dynamic programming _refers to simplifying a complicated problem by breaking it down into simpler sub-problems in a recursive manner_ (Wikipedia).\n",
    "\n",
    "Introduce the quantity $M(i,w)$, that is the maximum value of stored items, when I consider only the first $i$ items in $\\mathbf v$ and $\\mathbf w$, and where I fix the knapsack tolerance to $w$. Clearly, we look for $M(N,W)$.\n",
    "\n",
    "Consider a pair of values $i,w$. Such knapsack can be built in two ways. The first consists in adding the $i$-th item to $M(i-1,w-w_i)$. Clearly, this cannot be done if $w_i>w$. If instead $w_i$ was not added, then $M(i,w)=M(i-1,w)$, as if to say that the present $w$-knapsack is optimal without $w_i$. Therefore, we should check that:\n",
    "\n",
    "1. $w_i\\leq w$. If so:\n",
    "2. $M(i,w)=\\max\\left[M(i-1,w-w_i)+v_i,M(i-1,w)\\right]$.\n",
    "3. Otherwise, $M(i,w)=M(i-1,w)$.\n",
    "4. B.C.: $M(0,w)=0$, $M(i,0)=0$.\n",
    "\n",
    "Clearly, to determine $M(i,w)$ we only need data for previous $i$'s for $w$ fixed, and for previous $w$'s for $i$ fixed, so we just need to roll over every row, column by column of $M$. This is actually a DP approach, where the final result depends recursively on smaller subproblems.\n",
    "\n",
    "Moreover, $0\\leq i\\leq N$, while $0\\leq w\\leq W$.\n",
    "\n",
    "Note that the index $i$ in $M$ and in $w$ will have to change in python, because we include $w_0$ to generate $M(1,w_1)$ because of python indexing."
   ]
  },
  {
   "cell_type": "code",
   "execution_count": 3,
   "metadata": {},
   "outputs": [
    {
     "name": "stdout",
     "output_type": "stream",
     "text": [
      "179\n"
     ]
    }
   ],
   "source": [
    "M = np.zeros((N+1,W+1),dtype=int)\n",
    "\n",
    "for i in range(1,N+1):\n",
    "    for j in range(1,W+1):\n",
    "        if w[i-1] <= j:\n",
    "            M[i][j] = max(M[i-1][j-w[i-1]]+v[i-1],M[i-1][j])\n",
    "        else:\n",
    "            M[i][j] = M[i-1][j]\n",
    "\n",
    "print(M[N,W])"
   ]
  }
 ],
 "metadata": {
  "kernelspec": {
   "display_name": "Python 3",
   "language": "python",
   "name": "python3"
  },
  "language_info": {
   "codemirror_mode": {
    "name": "ipython",
    "version": 3
   },
   "file_extension": ".py",
   "mimetype": "text/x-python",
   "name": "python",
   "nbconvert_exporter": "python",
   "pygments_lexer": "ipython3",
   "version": "3.7.4"
  }
 },
 "nbformat": 4,
 "nbformat_minor": 2
}

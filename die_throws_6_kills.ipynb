{
 "cells": [
  {
   "cell_type": "code",
   "execution_count": 1,
   "metadata": {},
   "outputs": [],
   "source": [
    "import numpy as np"
   ]
  },
  {
   "cell_type": "markdown",
   "metadata": {},
   "source": [
    "# Die that kills the game if shows 6\n",
    "\n",
    "    Two problems:\n",
    "\n",
    "    1. start from 0, keep rolling until either you stop or 6 is shown, your payoff is the last value shown\n",
    "    2. same thing, but payoff is sum of faces shown, unless it is 6, in that case you lose everything\n",
    "\n",
    "    Compute: \n",
    "    \n",
    "    a. optimal stopping rule\n",
    "    b. expected payoff in optimal setting\n",
    "    c. expected number of draws in optimal strategy.\n",
    "\n",
    "### Problem 1\n",
    "optimal stopping rule is stop if die rolls more or equal than 3 (see book from Lawler Chapter 4);\n",
    "\n",
    "average number of throws is obtained as the average length of a sequence of Bernoullians with $p=1/3$ chance of continuation (die shows 1 or 2).\n",
    "\n",
    "### Problem 2\n",
    "optimal stopping rule is stop if your budget exceeds 14 as $b\\geq E[b+X]=\\frac16(b+1)+..+\\frac16(b+5)+\\frac16\\cdot 0=\\frac 56 b+2.5$.\n",
    "\n",
    "Call $v(i)$ the value of a position holding $i$ as a budget. Then:\n",
    "$$ v(i)=\\frac16\\sum_{j=1}^5 v(i+j).$$\n",
    "Starting from $i=14$ and going back to $i=0$ one finds $v(0)=6.153$ (see below)."
   ]
  },
  {
   "cell_type": "markdown",
   "metadata": {},
   "source": [
    "## Value function of problem 1"
   ]
  },
  {
   "cell_type": "code",
   "execution_count": 2,
   "metadata": {},
   "outputs": [
    {
     "name": "stdout",
     "output_type": "stream",
     "text": [
      "3.0\n"
     ]
    }
   ],
   "source": [
    "P = np.array([ [1/6 for i in range(6)] ]*5 + [ [0 for i in range(5)] + [1] ])\n",
    "v = np.array([5]*5 + [0])\n",
    "f = np.array([1,2,3,4,5,0])\n",
    "\n",
    "d = 1\n",
    "while d > 1e-18:\n",
    "    vp1 = np.maximum(f,P.dot(v))\n",
    "    d = np.linalg.norm(vp1-v)\n",
    "    v = vp1\n",
    "\n",
    "print(v.mean())"
   ]
  },
  {
   "cell_type": "markdown",
   "metadata": {},
   "source": [
    "## Value function and average time to completion of problem 2"
   ]
  },
  {
   "cell_type": "code",
   "execution_count": 3,
   "metadata": {},
   "outputs": [
    {
     "name": "stdout",
     "output_type": "stream",
     "text": [
      "3.7332918532839066 6.1537379284031894 0.377784691119349\n"
     ]
    }
   ],
   "source": [
    "v = [0 for i in range(15)] + [15,16,17,18,19]\n",
    "N = [0 for i in range(20)]\n",
    "p = [0 for i in range(15)] + [1,1,1,1,1]\n",
    "\n",
    "for i in range(14,-1,-1):\n",
    "    v[i] = sum(v[i+1:i+6])/6\n",
    "    N[i] = sum(N[i+1:i+6])/6 + 1/6*0 + 1\n",
    "    p[i] = sum(p[i+1:i+6])/6\n",
    "\n",
    "print(N[0],v[0],p[0])"
   ]
  },
  {
   "cell_type": "markdown",
   "metadata": {},
   "source": [
    "# Snell envelope of problem 2"
   ]
  },
  {
   "cell_type": "code",
   "execution_count": 7,
   "metadata": {},
   "outputs": [
    {
     "data": {
      "image/png": "[encoded data removed]",
      "text/plain": [
       "<Figure size 540x360 with 1 Axes>"
      ]
     },
     "metadata": {
      "needs_background": "light"
     },
     "output_type": "display_data"
    }
   ],
   "source": [
    "import matplotlib.pyplot as plt\n",
    "\n",
    "plt.figure(figsize=(7.5,5))\n",
    "\n",
    "plt.xticks([i for i in range(16)])\n",
    "plt.yticks([i for i in range(20)])\n",
    "\n",
    "plt.xlabel('turn')\n",
    "plt.ylabel('possible states per turn')\n",
    "\n",
    "for i in range(16):\n",
    "    env_y = [ 0 ] + [ j for j in range(i,5*i+1) if j < 20 and i > 0 ]\n",
    "    env_x = [ i ]*len(env_y)\n",
    "\n",
    "    plt.xlim((-1,16))\n",
    "    plt.ylim((-1,20))\n",
    "    plt.scatter(env_x,env_y,marker = 'x', color = 'black')\n",
    "\n",
    "plt.plot([0,15],[15,15],color = 'red', label = 'Snell envelope')\n",
    "\n",
    "plt.legend()\n",
    "plt.show()"
   ]
  },
  {
   "cell_type": "markdown",
   "metadata": {},
   "source": [
    "## MC for problem 1"
   ]
  },
  {
   "cell_type": "code",
   "execution_count": 4,
   "metadata": {},
   "outputs": [
    {
     "name": "stdout",
     "output_type": "stream",
     "text": [
      "1.4978 3.00791\n"
     ]
    }
   ],
   "source": [
    "games = range(100000)\n",
    "\n",
    "avg_rolls = 0\n",
    "avg_win = 0\n",
    "\n",
    "for game in games:\n",
    "    rolls = 0\n",
    "    while True:\n",
    "        die = np.random.randint(1,7)\n",
    "        rolls += 1\n",
    "        if die == 6:\n",
    "            break\n",
    "        if die > 2:\n",
    "            avg_win += die\n",
    "            break\n",
    "    avg_rolls += rolls\n",
    "\n",
    "avg_rolls /= len(games)\n",
    "avg_win   /= len(games)\n",
    "\n",
    "print(avg_rolls,avg_win)"
   ]
  },
  {
   "cell_type": "markdown",
   "metadata": {},
   "source": [
    "## MC for problem 2"
   ]
  },
  {
   "cell_type": "code",
   "execution_count": 6,
   "metadata": {},
   "outputs": [
    {
     "name": "stdout",
     "output_type": "stream",
     "text": [
      "3.73083 6.149407 0.377484\n"
     ]
    }
   ],
   "source": [
    "games = range(1000000)\n",
    "\n",
    "avg_rolls = 0\n",
    "avg_win = 0\n",
    "wins = 0\n",
    "\n",
    "for game in games:\n",
    "    b = 0\n",
    "    rolls = 0\n",
    "    while True:\n",
    "        die = np.random.randint(1,7)\n",
    "        rolls += 1\n",
    "        if die == 6:\n",
    "            break\n",
    "        b += die\n",
    "        if b > 14:\n",
    "            avg_win += b\n",
    "            wins += 1\n",
    "            break\n",
    "    avg_rolls += rolls\n",
    "\n",
    "avg_rolls /= len(games)\n",
    "avg_win   /= len(games)\n",
    "wins      /= len(games)\n",
    "\n",
    "print(avg_rolls,avg_win,wins)"
   ]
  }
 ],
 "metadata": {
  "kernelspec": {
   "display_name": "Python 3",
   "language": "python",
   "name": "python3"
  },
  "language_info": {
   "codemirror_mode": {
    "name": "ipython",
    "version": 3
   },
   "file_extension": ".py",
   "mimetype": "text/x-python",
   "name": "python",
   "nbconvert_exporter": "python",
   "pygments_lexer": "ipython3",
   "version": "3.8.5"
  }
 },
 "nbformat": 4,
 "nbformat_minor": 4
}
